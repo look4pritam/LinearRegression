{
  "nbformat": 4,
  "nbformat_minor": 0,
  "metadata": {
    "colab": {
      "provenance": [],
      "gpuType": "T4",
      "authorship_tag": "ABX9TyP18TaquJmulasDdhn9FwgB",
      "include_colab_link": true
    },
    "kernelspec": {
      "name": "python3",
      "display_name": "Python 3"
    },
    "language_info": {
      "name": "python"
    },
    "accelerator": "GPU"
  },
  "cells": [
    {
      "cell_type": "markdown",
      "metadata": {
        "id": "view-in-github",
        "colab_type": "text"
      },
      "source": [
        "<a href=\"https://colab.research.google.com/github/look4pritam/ArtificialIntelligence/blob/master/MachineLearning/LinearRegression/Notebooks/BostonHousingDataset/RidgeRegression.ipynb\" target=\"_parent\"><img src=\"https://colab.research.google.com/assets/colab-badge.svg\" alt=\"Open In Colab\"/></a>"
      ]
    },
    {
      "cell_type": "markdown",
      "source": [
        "# Ridge Regression\n",
        "\n",
        "In this example, we will use Ridge regression model for house price prediction.\n",
        "\n",
        "We will use Boston Housing Dataset for regression.\n",
        "\n",
        "See [link](https://www.cs.toronto.edu/~delve/data/boston/bostonDetail.html) for more details."
      ],
      "metadata": {
        "id": "tb2329nxFBVT"
      }
    },
    {
      "cell_type": "markdown",
      "source": [
        "# Set the root directory for processing."
      ],
      "metadata": {
        "id": "q7_3hVePGFgf"
      }
    },
    {
      "cell_type": "code",
      "execution_count": null,
      "metadata": {
        "id": "1lHGpocQE42g"
      },
      "outputs": [],
      "source": [
        "import os\n",
        "\n",
        "root_dir = '/content/'\n",
        "os.chdir(root_dir)\n",
        "\n",
        "!ls -al"
      ]
    },
    {
      "cell_type": "markdown",
      "source": [
        "# Import required python modules."
      ],
      "metadata": {
        "id": "PaOoTfzKGQI1"
      }
    },
    {
      "cell_type": "code",
      "source": [
        "import numpy as np\n",
        "np.random.seed(7)"
      ],
      "metadata": {
        "id": "uXNwRmU_GYX1"
      },
      "execution_count": null,
      "outputs": []
    },
    {
      "cell_type": "code",
      "source": [
        "import pandas as pd"
      ],
      "metadata": {
        "id": "N6OfYQQ_3Tlt"
      },
      "execution_count": null,
      "outputs": []
    },
    {
      "cell_type": "markdown",
      "source": [
        "# Load Boston housing dataset."
      ],
      "metadata": {
        "id": "tYWcCLfHGjpm"
      }
    },
    {
      "cell_type": "code",
      "source": [
        "data_url = 'http://lib.stat.cmu.edu/datasets/boston'"
      ],
      "metadata": {
        "id": "dbOwuYlh3Zj7"
      },
      "execution_count": null,
      "outputs": []
    },
    {
      "cell_type": "code",
      "source": [
        "raw_data = pd.read_csv(data_url, sep=\"\\s+\", skiprows=22, header=None)"
      ],
      "metadata": {
        "id": "TvKua7E53e-4"
      },
      "execution_count": null,
      "outputs": []
    },
    {
      "cell_type": "markdown",
      "source": [
        "# Preprocess dataset."
      ],
      "metadata": {
        "id": "nyhJl3YquREk"
      }
    },
    {
      "cell_type": "code",
      "source": [
        "X = np.hstack([raw_data.values[::2, :], raw_data.values[1::2, :2]])\n",
        "y = raw_data.values[1::2, 2]"
      ],
      "metadata": {
        "id": "2MW13bwW3feE"
      },
      "execution_count": null,
      "outputs": []
    },
    {
      "cell_type": "code",
      "source": [
        "print(X.shape)\n",
        "print(y.shape)"
      ],
      "metadata": {
        "id": "QBiJDfGkv3OC"
      },
      "execution_count": null,
      "outputs": []
    },
    {
      "cell_type": "markdown",
      "source": [
        "### Import required python modules."
      ],
      "metadata": {
        "id": "2zTkLKfwwNwa"
      }
    },
    {
      "cell_type": "code",
      "source": [
        "from sklearn.preprocessing import MinMaxScaler"
      ],
      "metadata": {
        "id": "lZjYuR9twSIz"
      },
      "execution_count": null,
      "outputs": []
    },
    {
      "cell_type": "markdown",
      "source": [
        "### Compute scale factor and scaled the dataset."
      ],
      "metadata": {
        "id": "h_2zazpFwYzq"
      }
    },
    {
      "cell_type": "code",
      "source": [
        "scaler = MinMaxScaler().fit(X)\n",
        "scaled_X = scaler.transform(X)"
      ],
      "metadata": {
        "id": "9kNGwioBwOFd"
      },
      "execution_count": null,
      "outputs": []
    },
    {
      "cell_type": "markdown",
      "source": [
        "### Import required python modules."
      ],
      "metadata": {
        "id": "HDp3awf5wpKc"
      }
    },
    {
      "cell_type": "code",
      "source": [
        "from sklearn.model_selection import train_test_split"
      ],
      "metadata": {
        "id": "YshAOhstwzsK"
      },
      "execution_count": null,
      "outputs": []
    },
    {
      "cell_type": "code",
      "source": [
        "seed = 9\n",
        "test_size = 0.20"
      ],
      "metadata": {
        "id": "B1u4q3nMw4Kf"
      },
      "execution_count": null,
      "outputs": []
    },
    {
      "cell_type": "code",
      "source": [
        "X_train, X_test, y_train, y_test = train_test_split(scaled_X, y, test_size = test_size, random_state = seed)\n",
        "\n",
        "print(X_train.shape)\n",
        "print(X_test.shape)\n",
        "print(y_train.shape)\n",
        "print(y_test.shape)"
      ],
      "metadata": {
        "id": "SIZsl-s-wpiU"
      },
      "execution_count": null,
      "outputs": []
    },
    {
      "cell_type": "markdown",
      "source": [
        "# Create Ridge regression model."
      ],
      "metadata": {
        "id": "m7ho3E0gzrXB"
      }
    },
    {
      "cell_type": "markdown",
      "source": [
        "### Import required python modules.\n",
        "\n",
        "See [link](https://scikit-learn.org/stable/modules/generated/sklearn.linear_model.Ridge.html#) for more details."
      ],
      "metadata": {
        "id": "w0-gpYAlHSA6"
      }
    },
    {
      "cell_type": "code",
      "source": [
        "from sklearn.linear_model import"
      ],
      "metadata": {
        "id": "gU3lF6WAHVLR"
      },
      "execution_count": null,
      "outputs": []
    },
    {
      "cell_type": "markdown",
      "source": [
        "### Create Ridge regression model."
      ],
      "metadata": {
        "id": "mTgWkdFLHX3u"
      }
    },
    {
      "cell_type": "code",
      "source": [
        "model =\n",
        "model.fit(X_train, y_train)"
      ],
      "metadata": {
        "id": "4sNgPJuJHiOb"
      },
      "execution_count": null,
      "outputs": []
    },
    {
      "cell_type": "markdown",
      "source": [
        "# Evaluate the model."
      ],
      "metadata": {
        "id": "fNIKchXxxeyK"
      }
    },
    {
      "cell_type": "markdown",
      "source": [
        "### Import required python modules."
      ],
      "metadata": {
        "id": "h58d8Qruxq3a"
      }
    },
    {
      "cell_type": "code",
      "source": [
        "from sklearn.metrics import mean_squared_error\n",
        "from sklearn.metrics import r2_score"
      ],
      "metadata": {
        "id": "a8RYprVtxsKK"
      },
      "execution_count": null,
      "outputs": []
    },
    {
      "cell_type": "markdown",
      "source": [
        "### Evaluate the model on the training dataset."
      ],
      "metadata": {
        "id": "JjU3Ba2ox7ta"
      }
    },
    {
      "cell_type": "code",
      "source": [
        "y_train_predict = model.predict(X_train)\n",
        "rmse = (np.sqrt(mean_squared_error(y_train, y_train_predict)))\n",
        "r2 = r2_score(y_train, y_train_predict)"
      ],
      "metadata": {
        "id": "2pgFVlEWxhKF"
      },
      "execution_count": null,
      "outputs": []
    },
    {
      "cell_type": "code",
      "source": [
        "print('RMSE - {}'.format(rmse))\n",
        "print('R2 score - {}'.format(r2))"
      ],
      "metadata": {
        "id": "-hgzmUB2xynx"
      },
      "execution_count": null,
      "outputs": []
    },
    {
      "cell_type": "markdown",
      "source": [
        "### Evaluate the model on the test dataset."
      ],
      "metadata": {
        "id": "uBHm3N2Lxv-C"
      }
    },
    {
      "cell_type": "code",
      "source": [
        "y_test_predict = model.predict(X_test)\n",
        "rmse = (np.sqrt(mean_squared_error(y_test, y_test_predict)))\n",
        "r2 = r2_score(y_test, y_test_predict)"
      ],
      "metadata": {
        "id": "_siarfJ_xwTl"
      },
      "execution_count": null,
      "outputs": []
    },
    {
      "cell_type": "code",
      "source": [
        "print('RMSE is {}'.format(rmse))\n",
        "print('R2 score is {}'.format(r2))"
      ],
      "metadata": {
        "id": "WOCdhOINy0Ah"
      },
      "execution_count": null,
      "outputs": []
    }
  ]
}